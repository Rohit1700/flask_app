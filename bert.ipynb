{
 "cells": [
  {
   "cell_type": "code",
   "execution_count": null,
   "id": "6f58003f",
   "metadata": {},
   "outputs": [
    {
     "name": "stdout",
     "output_type": "stream",
     "text": [
      " * Serving Flask app \"__main__\" (lazy loading)\n",
      " * Environment: production\n",
      "\u001b[31m   WARNING: This is a development server. Do not use it in a production deployment.\u001b[0m\n",
      "\u001b[2m   Use a production WSGI server instead.\u001b[0m\n",
      " * Debug mode: off\n"
     ]
    },
    {
     "name": "stderr",
     "output_type": "stream",
     "text": [
      " * Running on http://127.0.0.1:5000/ (Press CTRL+C to quit)\n",
      "127.0.0.1 - - [10/Jan/2023 01:08:55] \"POST /summarize HTTP/1.1\" 200 -\n"
     ]
    }
   ],
   "source": [
    "#imports required for flask part\n",
    "from flask import Flask, render_template,request\n",
    "import os\n",
    "import requests\n",
    "from bs4 import BeautifulSoup\n",
    "import nltk\n",
    "import pandas as pd\n",
    "#download the summarizer\n",
    "from summarizer import Summarizer\n",
    "#import for SBERT summarizer\n",
    "from summarizer.sbert import SBertSummarizer\n",
    "#create an instance of the SBERT\n",
    "model_bert = SBertSummarizer('paraphrase-MiniLM-L6-v2')\n",
    "\n",
    "app = Flask(__name__)\n",
    "\n",
    "def get_wiki_content(url):\n",
    "    req_obj = requests.get(url)\n",
    "    text = req_obj.text\n",
    "    soup = BeautifulSoup(text)\n",
    "    all_paras = soup.find_all(\"p\")\n",
    "    wiki_text = ''\n",
    "    for para in all_paras:\n",
    "        wiki_text += para.text \n",
    "    return wiki_text\n",
    "\n",
    "\n",
    "@app.route(\"/\")\n",
    "def msg():\n",
    "    return render_template('index.html')\n",
    "\n",
    "@app.route(\"/summarize\",methods=['POST','GET'])\n",
    "def getSummary():\n",
    "    body=request.form.get('data')\n",
    "    if len(body)==0:\n",
    "        if request.method == 'POST':\n",
    "            f = request.files['file']\n",
    "            if(f.filename==\"\"):\n",
    "                temp1=request.form['size']\n",
    "                temp1=int(temp1)\n",
    "                url = request.form.get(\"url\")\n",
    "                url_content = get_wiki_content(url)\n",
    "                result = model_bert(url_content,num_sentences=temp1)\n",
    "                return render_template('summary_bert.html',result=result)\n",
    "            else:\n",
    "                temp1=request.form['size']\n",
    "                temp1=int(temp1)\n",
    "                f.save(f.filename)\n",
    "                f.seek(0)\n",
    "                content = f.read()\n",
    "                content = str(content, 'utf-8')\n",
    "                result=model_bert(content,num_sentences=temp1)\n",
    "                return render_template('summary_bert.html', result=result)\n",
    "    else:\n",
    "        temp1=request.form['size']\n",
    "        temp1=int(temp1)\n",
    "        body=request.form.get('data')\n",
    "        result = model_bert(body, num_sentences=temp1)\n",
    "        return render_template('summary_bert.html',result=result)\n",
    "\n",
    "if __name__ ==\"__main__\":\n",
    "    app.run()"
   ]
  },
  {
   "cell_type": "code",
   "execution_count": null,
   "id": "7a4a7e9f",
   "metadata": {},
   "outputs": [],
   "source": []
  }
 ],
 "metadata": {
  "kernelspec": {
   "display_name": "Python 3 (ipykernel)",
   "language": "python",
   "name": "python3"
  },
  "language_info": {
   "codemirror_mode": {
    "name": "ipython",
    "version": 3
   },
   "file_extension": ".py",
   "mimetype": "text/x-python",
   "name": "python",
   "nbconvert_exporter": "python",
   "pygments_lexer": "ipython3",
   "version": "3.9.13"
  }
 },
 "nbformat": 4,
 "nbformat_minor": 5
}
