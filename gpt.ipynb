{
 "cells": [
  {
   "cell_type": "code",
   "execution_count": 1,
   "id": "763c70d7",
   "metadata": {},
   "outputs": [
    {
     "data": {
      "application/vnd.jupyter.widget-view+json": {
       "model_id": "0308269f53c24657a6e041848a951d65",
       "version_major": 2,
       "version_minor": 0
      },
      "text/plain": [
       "Downloading:   0%|          | 0.00/1.04M [00:00<?, ?B/s]"
      ]
     },
     "metadata": {},
     "output_type": "display_data"
    },
    {
     "name": "stderr",
     "output_type": "stream",
     "text": [
      "C:\\Users\\vinee\\anaconda3\\lib\\site-packages\\huggingface_hub\\file_download.py:127: UserWarning: `huggingface_hub` cache-system uses symlinks by default to efficiently store duplicated files but your machine does not support them in C:\\Users\\vinee\\.cache\\huggingface\\hub. Caching files will still work but in a degraded version that might require more space on your disk. This warning can be disabled by setting the `HF_HUB_DISABLE_SYMLINKS_WARNING` environment variable. For more details, see https://huggingface.co/docs/huggingface_hub/how-to-cache#limitations.\n",
      "To support symlinks on Windows, you either need to activate Developer Mode or to run Python as an administrator. In order to see activate developer mode, see this article: https://docs.microsoft.com/en-us/windows/apps/get-started/enable-your-device-for-development\n",
      "  warnings.warn(message)\n"
     ]
    },
    {
     "data": {
      "application/vnd.jupyter.widget-view+json": {
       "model_id": "e3f76162bdde402e9817a114e7696a83",
       "version_major": 2,
       "version_minor": 0
      },
      "text/plain": [
       "Downloading:   0%|          | 0.00/456k [00:00<?, ?B/s]"
      ]
     },
     "metadata": {},
     "output_type": "display_data"
    },
    {
     "data": {
      "application/vnd.jupyter.widget-view+json": {
       "model_id": "6843240e00d5477f959197e4fe63d1b8",
       "version_major": 2,
       "version_minor": 0
      },
      "text/plain": [
       "Downloading:   0%|          | 0.00/665 [00:00<?, ?B/s]"
      ]
     },
     "metadata": {},
     "output_type": "display_data"
    },
    {
     "data": {
      "application/vnd.jupyter.widget-view+json": {
       "model_id": "738ed6ad682c435fbfd81b63fbc100c4",
       "version_major": 2,
       "version_minor": 0
      },
      "text/plain": [
       "Downloading:   0%|          | 0.00/548M [00:00<?, ?B/s]"
      ]
     },
     "metadata": {},
     "output_type": "display_data"
    },
    {
     "name": "stdout",
     "output_type": "stream",
     "text": [
      " * Serving Flask app \"__main__\" (lazy loading)\n",
      " * Environment: production\n",
      "\u001b[31m   WARNING: This is a development server. Do not use it in a production deployment.\u001b[0m\n",
      "\u001b[2m   Use a production WSGI server instead.\u001b[0m\n",
      " * Debug mode: off\n"
     ]
    },
    {
     "name": "stderr",
     "output_type": "stream",
     "text": [
      " * Running on http://127.0.0.1:5000/ (Press CTRL+C to quit)\n",
      "127.0.0.1 - - [10/Jan/2023 15:54:50] \"GET / HTTP/1.1\" 200 -\n",
      "The attention mask and the pad token id were not set. As a consequence, you may observe unexpected behavior. Please pass your input's `attention_mask` to obtain reliable results.\n",
      "Setting `pad_token_id` to `eos_token_id`:50256 for open-end generation.\n",
      "C:\\Users\\vinee\\anaconda3\\lib\\site-packages\\transformers\\generation\\utils.py:1387: UserWarning: Neither `max_length` nor `max_new_tokens` has been set, `max_length` will default to 20 (`self.config.max_length`). Controlling `max_length` via the config is deprecated and `max_length` will be removed from the config in v5 of Transformers -- we recommend using `max_new_tokens` to control the maximum length of the generation.\n",
      "  warnings.warn(\n",
      "Input length of input_ids is 300, but `max_length` is set to 20. This can lead to unexpected behavior. You should consider increasing `max_new_tokens`.\n",
      "127.0.0.1 - - [10/Jan/2023 15:55:02] \"POST /summarize HTTP/1.1\" 200 -\n"
     ]
    }
   ],
   "source": [
    "#imports required for flask part\n",
    "from flask import Flask, render_template,request\n",
    "import os\n",
    "import requests\n",
    "from bs4 import BeautifulSoup\n",
    "import nltk\n",
    "import pandas as pd\n",
    "from transformers import GPT2Tokenizer,GPT2LMHeadModel\n",
    "\n",
    "app = Flask(__name__)\n",
    "tokenizer=GPT2Tokenizer.from_pretrained('gpt2')\n",
    "model_gpt=GPT2LMHeadModel.from_pretrained('gpt2')\n",
    "\n",
    "def get_wiki_content(url):\n",
    "    req_obj = requests.get(url)\n",
    "    text = req_obj.text\n",
    "    soup = BeautifulSoup(text)\n",
    "    all_paras = soup.find_all(\"p\")\n",
    "    wiki_text = ''\n",
    "    for para in all_paras:\n",
    "        wiki_text += para.text \n",
    "    return wiki_text\n",
    "\n",
    "\n",
    "@app.route(\"/\")\n",
    "def msg():\n",
    "    return render_template('index.html')\n",
    "\n",
    "@app.route(\"/summarize\",methods=['POST','GET'])\n",
    "def getSummary():\n",
    "    body=request.form.get('data')\n",
    "    if len(body)==0:\n",
    "        if request.method == 'POST':\n",
    "            f = request.files['file']\n",
    "            if(f.filename==\"\"):\n",
    "                url = request.form.get(\"url\")\n",
    "                url_content = get_wiki_content(url)\n",
    "                inputs=tokenizer.batch_encode_plus([url_content],truncation=True, return_tensors='pt',max_length= 300)\n",
    "                summary_ids=model_gpt.generate(inputs['input_ids'],early_stopping=True)\n",
    "                result=tokenizer.decode(summary_ids[0],skip_special_tokens=True)\n",
    "                return render_template('summary_bert.html',result=result)\n",
    "            else:\n",
    "                temp1=request.form['size']\n",
    "                temp1=int(temp1)\n",
    "                f.save(f.filename)\n",
    "                f.seek(0)\n",
    "                content = f.read()\n",
    "                content = str(content, 'utf-8')\n",
    "                inputs=tokenizer.batch_encode_plus([content],truncation=True, return_tensors='pt',max_length= 300)\n",
    "                summary_ids=model_gpt.generate(inputs['input_ids'],early_stopping=True)\n",
    "                result=tokenizer.decode(summary_ids[0],skip_special_tokens=True)\n",
    "                return render_template('summary_bert.html', result=result)\n",
    "    else:\n",
    "        temp1=request.form['size']\n",
    "        temp1=int(temp1)\n",
    "        body=request.form.get('data')\n",
    "        inputs=tokenizer.batch_encode_plus([body],truncation=True, return_tensors='pt',max_length= 300)\n",
    "        summary_ids=model_gpt.generate(inputs['input_ids'],early_stopping=True)\n",
    "        result=tokenizer.decode(summary_ids[0],skip_special_tokens=True)\n",
    "        return render_template('summary_bert.html',result=result)\n",
    "\n",
    "if __name__ ==\"__main__\":\n",
    "    app.run()"
   ]
  },
  {
   "cell_type": "code",
   "execution_count": null,
   "id": "7ee2f669",
   "metadata": {},
   "outputs": [],
   "source": []
  }
 ],
 "metadata": {
  "kernelspec": {
   "display_name": "Python 3 (ipykernel)",
   "language": "python",
   "name": "python3"
  },
  "language_info": {
   "codemirror_mode": {
    "name": "ipython",
    "version": 3
   },
   "file_extension": ".py",
   "mimetype": "text/x-python",
   "name": "python",
   "nbconvert_exporter": "python",
   "pygments_lexer": "ipython3",
   "version": "3.9.13"
  }
 },
 "nbformat": 4,
 "nbformat_minor": 5
}
